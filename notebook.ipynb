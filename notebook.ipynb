{
 "cells": [
  {
   "cell_type": "code",
   "execution_count": 1,
   "metadata": {},
   "outputs": [
    {
     "name": "stdout",
     "output_type": "stream",
     "text": [
      "[[255. 255. 255. ... 255. 255. 255.]\n",
      " [255. 255. 255. ... 255. 255. 255.]\n",
      " [255. 255. 255. ... 255. 255. 255.]\n",
      " ...\n",
      " [255. 255. 255. ... 255. 255. 255.]\n",
      " [255. 255. 255. ... 255. 255. 255.]\n",
      " [255. 255. 255. ... 255. 255. 255.]]\n"
     ]
    }
   ],
   "source": [
    "\"\"\"Defines parameters of algorithm\"\"\"\n",
    "import torch\n",
    "from PIL import Image\n",
    "import numpy as np\n",
    "\n",
    "#########################################################\n",
    "# Physical Parameters\n",
    "#########################################################\n",
    "# The equation we are solving is \n",
    "# \\partial_t f = \\frac{1}{\\epsilon} [ Q_sigma(f,f)]\n",
    "# Q_sigma = integral min{B(v, v_*), sigma}f(v')f(v_*') - f\n",
    "epsilon = 1     # Knusen number\n",
    "rho = 1         # total mass of system \n",
    "alpha = 1       # = 1 for hard spheres\n",
    "C_alpha = 1    # B(v,v*) = C_alpha |v-v*|^alpha\n",
    "\n",
    "#########################################################\n",
    "# Simulation Input Parameters\n",
    "#########################################################\n",
    "N = 5_000     # number of MC paths drawn\n",
    "n_total  = 1  # total number of times to run simulation\n",
    "delta_t = 0.01 # time step size\n",
    "\n",
    "#########################################################\n",
    "# Load image\n",
    "#########################################################\n",
    "# Load an image\n",
    "image = Image.open('frog.jpg')\n",
    "\n",
    "# Load the pixel map\n",
    "pixels = image.load()\n",
    "\n",
    "# Get the dimensions\n",
    "width, height = image.size\n",
    "\n",
    "# Convert PIL Image to NumPy array\n",
    "np_image = np.array(image)\n",
    "\n",
    "# Perform operations using NumPy (e.g., invert colors)\n",
    "np_greyscale = np_image.mean(axis = 2)\n",
    "\n",
    "# print(np_greyscale.shape)\n",
    "# output = (340, 220)\n",
    "\n",
    "# # Convert back to PIL Image\n",
    "# image_greyscale = Image.fromarray(np_greyscale)\n",
    "\n",
    "# # Show or save the result\n",
    "# image_greyscale.show()\n",
    "print(np_greyscale)\n",
    "#########################################################\n",
    "# Initial Function\n",
    "#########################################################\n",
    "f_initial = []\n",
    "height = 340\n",
    "width = 220"
   ]
  },
  {
   "cell_type": "code",
   "execution_count": 2,
   "metadata": {},
   "outputs": [
    {
     "data": {
      "text/plain": [
       "0.0"
      ]
     },
     "execution_count": 2,
     "metadata": {},
     "output_type": "execute_result"
    }
   ],
   "source": [
    "np_greyscale.min()"
   ]
  },
  {
   "cell_type": "code",
   "execution_count": null,
   "metadata": {},
   "outputs": [],
   "source": []
  }
 ],
 "metadata": {
  "kernelspec": {
   "display_name": "Python 3",
   "language": "python",
   "name": "python3"
  },
  "language_info": {
   "codemirror_mode": {
    "name": "ipython",
    "version": 3
   },
   "file_extension": ".py",
   "mimetype": "text/x-python",
   "name": "python",
   "nbconvert_exporter": "python",
   "pygments_lexer": "ipython3",
   "version": "3.11.0"
  }
 },
 "nbformat": 4,
 "nbformat_minor": 2
}
